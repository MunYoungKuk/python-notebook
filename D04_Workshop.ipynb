{
 "cells": [
  {
   "cell_type": "code",
   "execution_count": 3,
   "metadata": {},
   "outputs": [
    {
     "name": "stdout",
     "output_type": "stream",
     "text": [
      "*****\n",
      "*****\n",
      "*****\n",
      "*****\n",
      "*****\n",
      "*****\n",
      "*****\n",
      "*****\n",
      "*****\n",
      "\n"
     ]
    }
   ],
   "source": [
    "#1\n",
    "n =5;m=9\n",
    "s = '*'*n\n",
    "b = s +'\\n'\n",
    "print(b*m)"
   ]
  },
  {
   "cell_type": "code",
   "execution_count": 5,
   "metadata": {},
   "outputs": [
    {
     "name": "stdout",
     "output_type": "stream",
     "text": [
      "83.25\n"
     ]
    }
   ],
   "source": [
    "#2\n",
    "student= {'python':80, 'algorithm':78, 'django':95, 'flask':80}\n",
    "s = list(student.values())\n",
    "sum = 0\n",
    "for i in range(4):\n",
    "    sum += s[i]\n",
    "mean = sum/len(s)\n",
    "print(mean)"
   ]
  },
  {
   "cell_type": "code",
   "execution_count": 6,
   "metadata": {},
   "outputs": [
    {
     "name": "stdout",
     "output_type": "stream",
     "text": [
      "A형은:4 B형은:2 O형은:4 AB형은:3\n"
     ]
    }
   ],
   "source": [
    "#3\n",
    "blood = ['A','B','O','A','B','A','AB','AB','O','A','O','AB','O']\n",
    "a = blood.count(\"A\")\n",
    "b = blood.count(\"B\")\n",
    "c = blood.count(\"O\")\n",
    "d = blood.count(\"AB\")\n",
    "print(\"A형은:{} B형은:{} O형은:{} AB형은:{}\".format(a,b,c,d))"
   ]
  }
 ],
 "metadata": {
  "kernelspec": {
   "display_name": "Python 3",
   "language": "python",
   "name": "python3"
  },
  "language_info": {
   "codemirror_mode": {
    "name": "ipython",
    "version": 3
   },
   "file_extension": ".py",
   "mimetype": "text/x-python",
   "name": "python",
   "nbconvert_exporter": "python",
   "pygments_lexer": "ipython3",
   "version": "3.6.7"
  }
 },
 "nbformat": 4,
 "nbformat_minor": 2
}
