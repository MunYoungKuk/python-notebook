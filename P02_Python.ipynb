{
 "cells": [
  {
   "cell_type": "markdown",
   "metadata": {},
   "source": [
    "# 가상화폐 시세 판단하기"
   ]
  },
  {
   "cell_type": "markdown",
   "metadata": {},
   "source": [
    "> 최고가와 최저가의 차이를 변동폭으로 정의할 때 (시가 + 변동폭)이 최고가 보다 높을 경우 \"상승장\", 그렇지 않은 경우 \"하락장\" 문자열을 출력하라.\n",
    "\n",
    "|Key Name        |     Description|\n",
    "|---|---|\n",
    "|opeing_price    |최근 24시간 내 시작 거래금액|\n",
    "|closing_price   |최근 24시간 내 마지막 거래금액|\n",
    "|min_price       |최근 24시간 내 최저 거래금액|\n",
    "|max_price       |최근 24시간 내 최고 거래금액|"
   ]
  },
  {
   "cell_type": "code",
   "execution_count": 1,
   "metadata": {},
   "outputs": [
    {
     "name": "stdout",
     "output_type": "stream",
     "text": [
      "{'opening_price': '4318000', 'closing_price': '4311000', 'min_price': '4250000', 'max_price': '4330000', 'average_price': '4295352.4518', 'units_traded': '18079.47905382', 'volume_1day': '18079.47905382', 'volume_7day': '55803.66576349', 'buy_price': '4307000', 'sell_price': '4311000', '24H_fluctate': '-7000', '24H_fluctate_rate': '-0.16', 'date': '1546583776276'}\n"
     ]
    }
   ],
   "source": [
    "import requests\n",
    "btc = requests.get(\"https://api.bithumb.com/public/ticker/btc\").json()['data']\n",
    "print(btc)"
   ]
  },
  {
   "cell_type": "code",
   "execution_count": null,
   "metadata": {},
   "outputs": [],
   "source": [
    "# 아래에 코드를 작성하세요.\n",
    "    "
   ]
  },
  {
   "cell_type": "markdown",
   "metadata": {},
   "source": [
    "## 모든 가상화폐 시세 판단하기\n",
    "\n",
    "> currrency dictionary에 담겨있는 모든 가상화폐 거래내역을 바탕으로 출력하라.\n",
    ">\n",
    "> 예외 처리에 유의하세요.\n",
    "--- \n",
    "```\n",
    "예시 출력)\n",
    "BTC 상승장\n",
    "ETH 상승장\n",
    "DASH 상승장\n",
    "LTC 하락장\n",
    "ETC 하락장\n",
    "XRP 상승장\n",
    "BCH 상승장\n",
    "...\n",
    "```\n"
   ]
  },
  {
   "cell_type": "code",
   "execution_count": 2,
   "metadata": {},
   "outputs": [
    {
     "name": "stdout",
     "output_type": "stream",
     "text": [
      "{'BTC': {'opening_price': '4318000', 'closing_price': '4307000', 'min_price': '4250000', 'max_price': '4330000', 'average_price': '4295353.5783', 'units_traded': '18079.60915382', 'volume_1day': '18079.60915382', 'volume_7day': '55803.66576349', 'buy_price': '4306000', 'sell_price': '4311000', '24H_fluctate': '-11000', '24H_fluctate_rate': '-0.25'}, 'ETH': {'opening_price': '171600', 'closing_price': '175500', 'min_price': '163500', 'max_price': '175900', 'average_price': '168293.1282', 'units_traded': '599569.93375098', 'volume_1day': '599569.93375098', 'volume_7day': '2012607.569134127228680791', 'buy_price': '175500', 'sell_price': '175800', '24H_fluctate': '3900', '24H_fluctate_rate': '2.27'}, 'DASH': {'opening_price': '93000', 'closing_price': '92600', 'min_price': '88100', 'max_price': '93500', 'average_price': '90133.6035', 'units_traded': '2928021.41784232', 'volume_1day': '2928021.41784232', 'volume_7day': '32136469.0731534', 'buy_price': '92300', 'sell_price': '92600', '24H_fluctate': '-400', '24H_fluctate_rate': '-0.43'}, 'LTC': {'opening_price': '36590', 'closing_price': '36880', 'min_price': '34940', 'max_price': '37000', 'average_price': '35840.6728', 'units_traded': '11655.87220153', 'volume_1day': '11655.87220153', 'volume_7day': '176494.15085938', 'buy_price': '36880', 'sell_price': '36990', '24H_fluctate': '290', '24H_fluctate_rate': '0.79'}, 'ETC': {'opening_price': '5915', 'closing_price': '5855', 'min_price': '5640', 'max_price': '5940', 'average_price': '5749.095', 'units_traded': '532828.83174874', 'volume_1day': '532828.83174874', 'volume_7day': '1859853.35639952070662498', 'buy_price': '5845', 'sell_price': '5855', '24H_fluctate': '-60', '24H_fluctate_rate': '-1.01'}, 'XRP': {'opening_price': '410', 'closing_price': '405', 'min_price': '397', 'max_price': '411', 'average_price': '403.0606', 'units_traded': '44971918.12751862', 'volume_1day': '44971918.12751862', 'volume_7day': '464154725.45658319', 'buy_price': '405', 'sell_price': '406', '24H_fluctate': '-5', '24H_fluctate_rate': '-1.21'}, 'BCH': {'opening_price': '187600', 'closing_price': '184400', 'min_price': '177300', 'max_price': '189600', 'average_price': '182306.4567', 'units_traded': '44428.64356232', 'volume_1day': '44428.64356232', 'volume_7day': '545274.64307392', 'buy_price': '184100', 'sell_price': '184400', '24H_fluctate': '-3200', '24H_fluctate_rate': '-1.70'}, 'XMR': {'opening_price': '57000', 'closing_price': '56450', 'min_price': '55000', 'max_price': '57300', 'average_price': '55827.9797', 'units_traded': '13902161.37815505', 'volume_1day': '13902161.37815505', 'volume_7day': '66539311.994649510587', 'buy_price': '55950', 'sell_price': '56450', '24H_fluctate': '-550', '24H_fluctate_rate': '-0.96'}, 'ZEC': {'opening_price': '66500', 'closing_price': '65500', 'min_price': '64150', 'max_price': '67350', 'average_price': '65369.8672', 'units_traded': '208325.7066917', 'volume_1day': '208325.7066917', 'volume_7day': '33116582.64620287', 'buy_price': '65600', 'sell_price': '65650', '24H_fluctate': '-1000', '24H_fluctate_rate': '-1.50'}, 'QTUM': {'opening_price': '2547', 'closing_price': '2529', 'min_price': '2449', 'max_price': '2557', 'average_price': '2490.1034', 'units_traded': '768645.04047529', 'volume_1day': '768645.04047529', 'volume_7day': '3068611.60733204', 'buy_price': '2520', 'sell_price': '2529', '24H_fluctate': '-18', '24H_fluctate_rate': '-0.70'}, 'BTG': {'opening_price': '14740', 'closing_price': '14550', 'min_price': '12970', 'max_price': '14790', 'average_price': '14457.9695', 'units_traded': '25370891.85629309', 'volume_1day': '25370891.85629309', 'volume_7day': '103876821.3683125', 'buy_price': '14540', 'sell_price': '14550', '24H_fluctate': '-190', '24H_fluctate_rate': '-1.28'}, 'EOS': {'opening_price': '3118', 'closing_price': '3075', 'min_price': '2930', 'max_price': '3141', 'average_price': '3028.5205', 'units_traded': '2543878.72794287', 'volume_1day': '2543878.72794287', 'volume_7day': '22784656.90006882', 'buy_price': '3075', 'sell_price': '3078', '24H_fluctate': '-43', '24H_fluctate_rate': '-1.37'}, 'ICX': {'opening_price': '298', 'closing_price': '293', 'min_price': '281', 'max_price': '298', 'average_price': '290.5611', 'units_traded': '1462218.32906205', 'volume_1day': '1462218.32906205', 'volume_7day': '5102802.891934377413227047', 'buy_price': '293', 'sell_price': '296', '24H_fluctate': '-5', '24H_fluctate_rate': '-1.67'}, 'VET': {'opening_price': '7.3', 'closing_price': '7.13', 'min_price': '7.02', 'max_price': '7.31', 'average_price': '7.1531', 'units_traded': '8123820.8396696', 'volume_1day': '8123820.8396696', 'volume_7day': '68814976.39816564207207488', 'buy_price': '7.13', 'sell_price': '7.14', '24H_fluctate': '-0.17', '24H_fluctate_rate': '-2.32'}, 'TRX': {'opening_price': '22', 'closing_price': '22.8', 'min_price': '21.8', 'max_price': '23.2', 'average_price': '22.4823', 'units_traded': '227417385.39552164', 'volume_1day': '227417385.39552164', 'volume_7day': '928729700.68493149', 'buy_price': '22.7', 'sell_price': '22.8', '24H_fluctate': '0.8', '24H_fluctate_rate': '3.63'}, 'ELF': {'opening_price': '126', 'closing_price': '137', 'min_price': '125', 'max_price': '139', 'average_price': '133.2752', 'units_traded': '6409649.05041069', 'volume_1day': '6409649.05041069', 'volume_7day': '19253595.3726850078848957', 'buy_price': '137', 'sell_price': '138', '24H_fluctate': '11', '24H_fluctate_rate': '8.73'}, 'MITH': {'opening_price': '70.4', 'closing_price': '70', 'min_price': '68.3', 'max_price': '71', 'average_price': '69.558', 'units_traded': '8304162.65108461', 'volume_1day': '8304162.65108461', 'volume_7day': '105124067.912120415851441566', 'buy_price': '69.9', 'sell_price': '70', '24H_fluctate': '-0.4', '24H_fluctate_rate': '-0.56'}, 'MCO': {'opening_price': '2589', 'closing_price': '2603', 'min_price': '2533', 'max_price': '2628', 'average_price': '2580.4888', 'units_traded': '803917.5211', 'volume_1day': '803917.5211', 'volume_7day': '1911480.89667829', 'buy_price': '2580', 'sell_price': '2608', '24H_fluctate': '14', '24H_fluctate_rate': '0.54'}, 'OMG': {'opening_price': '1658', 'closing_price': '1679', 'min_price': '1612', 'max_price': '1679', 'average_price': '1646.531', 'units_traded': '91307.5282248', 'volume_1day': '91307.5282248', 'volume_7day': '10746329.242385039743064985', 'buy_price': '1670', 'sell_price': '1679', '24H_fluctate': '21', '24H_fluctate_rate': '1.26'}, 'KNC': {'opening_price': '182', 'closing_price': '176', 'min_price': '173', 'max_price': '183', 'average_price': '177.722', 'units_traded': '769237.14522589', 'volume_1day': '769237.14522589', 'volume_7day': '7111126.49412483482933909', 'buy_price': '176', 'sell_price': '178', '24H_fluctate': '-6', '24H_fluctate_rate': '-3.29'}, 'GNT': {'opening_price': '77.1', 'closing_price': '76.3', 'min_price': '75.3', 'max_price': '77.7', 'average_price': '76.1893', 'units_traded': '1279908.42833841', 'volume_1day': '1279908.42833841', 'volume_7day': '37463381.240176376390854978', 'buy_price': '76.1', 'sell_price': '76.3', '24H_fluctate': '-0.8', '24H_fluctate_rate': '-1.03'}, 'ZIL': {'opening_price': '22.6', 'closing_price': '22.5', 'min_price': '22', 'max_price': '22.6', 'average_price': '22.314', 'units_traded': '18556623.6579719', 'volume_1day': '18556623.6579719', 'volume_7day': '456107387.048116865995', 'buy_price': '22.5', 'sell_price': '22.6', '24H_fluctate': '-0.1', '24H_fluctate_rate': '-0.44'}, 'ETHOS': {'opening_price': '1110', 'closing_price': '1085', 'min_price': '1050', 'max_price': '1177', 'average_price': '1103.4043', 'units_traded': '275151.9411236', 'volume_1day': '275151.9411236', 'volume_7day': '5994133.69331463', 'buy_price': '1074', 'sell_price': '1083', '24H_fluctate': '-25', '24H_fluctate_rate': '-2.25'}, 'PAY': {'opening_price': '1818', 'closing_price': '1697', 'min_price': '1658', 'max_price': '1845', 'average_price': '1758.802', 'units_traded': '246289.7505151', 'volume_1day': '246289.7505151', 'volume_7day': '7930091.739171790593235763', 'buy_price': '1697', 'sell_price': '1713', '24H_fluctate': '-121', '24H_fluctate_rate': '-6.65'}, 'WAX': {'opening_price': '106', 'closing_price': '106', 'min_price': '103', 'max_price': '107', 'average_price': '105.1412', 'units_traded': '898919.75889742', 'volume_1day': '898919.75889742', 'volume_7day': '16075886.66117088', 'buy_price': '105', 'sell_price': '106', '24H_fluctate': '0', '24H_fluctate_rate': '0.00'}, 'POWR': {'opening_price': '540', 'closing_price': '514', 'min_price': '512', 'max_price': '543', 'average_price': '524.4851', 'units_traded': '305860.85318493', 'volume_1day': '305860.85318493', 'volume_7day': '5968301.6312013', 'buy_price': '514', 'sell_price': '522', '24H_fluctate': '-26', '24H_fluctate_rate': '-4.81'}, 'LRC': {'opening_price': '589', 'closing_price': '559', 'min_price': '542', 'max_price': '590', 'average_price': '567.9511', 'units_traded': '167250.8274485', 'volume_1day': '167250.8274485', 'volume_7day': '2924393.323382143959316869', 'buy_price': '559', 'sell_price': '562', '24H_fluctate': '-30', '24H_fluctate_rate': '-5.09'}, 'GTO': {'opening_price': '72', 'closing_price': '71.9', 'min_price': '71.2', 'max_price': '78.1', 'average_price': '73.9979', 'units_traded': '2686560.89664319', 'volume_1day': '2686560.89664319', 'volume_7day': '24567040.49365621', 'buy_price': '71.9', 'sell_price': '74.1', '24H_fluctate': '-0.09', '24H_fluctate_rate': '-0.13'}, 'STEEM': {'opening_price': '1859', 'closing_price': '1800', 'min_price': '1784', 'max_price': '1867', 'average_price': '1820.7794', 'units_traded': '79207.42623371', 'volume_1day': '79207.42623371', 'volume_7day': '1340336.52678855', 'buy_price': '1801', 'sell_price': '1831', '24H_fluctate': '-59', '24H_fluctate_rate': '-3.17'}, 'STRAT': {'opening_price': '2877', 'closing_price': '2871', 'min_price': '2751', 'max_price': '2919', 'average_price': '2840.0268', 'units_traded': '26858.15169483', 'volume_1day': '26858.15169483', 'volume_7day': '476296.55446025', 'buy_price': '2826', 'sell_price': '2850', '24H_fluctate': '-6', '24H_fluctate_rate': '-0.20'}, 'ZRX': {'opening_price': '364', 'closing_price': '364', 'min_price': '356', 'max_price': '370', 'average_price': '363.6069', 'units_traded': '992674.00867293', 'volume_1day': '992674.00867293', 'volume_7day': '5832560.058418712700391542', 'buy_price': '363', 'sell_price': '366', '24H_fluctate': '0', '24H_fluctate_rate': '0.00'}, 'REP': {'opening_price': '97900', 'closing_price': '96200', 'min_price': '94800', 'max_price': '99000', 'average_price': '96477.5115', 'units_traded': '3688.33636651', 'volume_1day': '3688.33636651', 'volume_7day': '93725.887543501288058404', 'buy_price': '96200', 'sell_price': '96300', '24H_fluctate': '-1700', '24H_fluctate_rate': '-1.73'}, 'AE': {'opening_price': '1668', 'closing_price': '1615', 'min_price': '1586', 'max_price': '1668', 'average_price': '1622.4448', 'units_traded': '52077.61820805', 'volume_1day': '52077.61820805', 'volume_7day': '1848222.226548562279190474', 'buy_price': '1601', 'sell_price': '1614', '24H_fluctate': '-53', '24H_fluctate_rate': '-3.17'}, 'XEM': {'opening_price': '74.1', 'closing_price': '74.1', 'min_price': '72', 'max_price': '75.4', 'average_price': '73.121', 'units_traded': '1845361.68384301', 'volume_1day': '1845361.68384301', 'volume_7day': '21610565.50909409', 'buy_price': '73.1', 'sell_price': '74', '24H_fluctate': '0', '24H_fluctate_rate': '0.00'}, 'SNT': {'opening_price': '117', 'closing_price': '113', 'min_price': '112', 'max_price': '119', 'average_price': '115.6605', 'units_traded': '1301940.61229353', 'volume_1day': '1301940.61229353', 'volume_7day': '23107449.204778655271629809', 'buy_price': '113', 'sell_price': '115', '24H_fluctate': '-4', '24H_fluctate_rate': '-3.41'}, 'ADA': {'opening_price': '77.5', 'closing_price': '75.9', 'min_price': '75.1', 'max_price': '79', 'average_price': '76.6824', 'units_traded': '1922800.93069868', 'volume_1day': '1922800.93069868', 'volume_7day': '39593941.51025258', 'buy_price': '75.9', 'sell_price': '76', '24H_fluctate': '-1.6', '24H_fluctate_rate': '-2.06'}, 'PPT': {'opening_price': '1688', 'closing_price': '1680', 'min_price': '1621', 'max_price': '1690', 'average_price': '1657.085', 'units_traded': '38612.07044755', 'volume_1day': '38612.07044755', 'volume_7day': '689673.72708679', 'buy_price': '1672', 'sell_price': '1680', '24H_fluctate': '-8', '24H_fluctate_rate': '-0.47'}, 'CTXC': {'opening_price': '118', 'closing_price': '117', 'min_price': '113', 'max_price': '124', 'average_price': '117.6302', 'units_traded': '1436264.30145972', 'volume_1day': '1436264.30145972', 'volume_7day': '11304401.248750190153580777', 'buy_price': '115', 'sell_price': '117', '24H_fluctate': '-1', '24H_fluctate_rate': '-0.84'}, 'CMT': {'opening_price': '34.7', 'closing_price': '33.8', 'min_price': '33.3', 'max_price': '36', 'average_price': '34.3857', 'units_traded': '3273754.74734461', 'volume_1day': '3273754.74734461', 'volume_7day': '34863739.300657437768373296', 'buy_price': '33.7', 'sell_price': '33.8', '24H_fluctate': '-0.9', '24H_fluctate_rate': '-2.59'}, 'THETA': {'opening_price': '56.4', 'closing_price': '57.7', 'min_price': '55.4', 'max_price': '62.8', 'average_price': '57.916', 'units_traded': '18928032.16479751', 'volume_1day': '18928032.16479751', 'volume_7day': '87136826.774923406888064336', 'buy_price': '56.8', 'sell_price': '57.6', '24H_fluctate': '1.3', '24H_fluctate_rate': '2.30'}, 'WTC': {'opening_price': '1289', 'closing_price': '1293', 'min_price': '1253', 'max_price': '1328', 'average_price': '1284.6116', 'units_traded': '227181.7384821', 'volume_1day': '227181.7384821', 'volume_7day': '2381437.724263276480326138', 'buy_price': '1277', 'sell_price': '1293', '24H_fluctate': '4', '24H_fluctate_rate': '0.31'}, 'ITC': {'opening_price': '137', 'closing_price': '137', 'min_price': '133', 'max_price': '138', 'average_price': '135.7503', 'units_traded': '1233225.91631441', 'volume_1day': '1233225.91631441', 'volume_7day': '17023379.492590027766952661', 'buy_price': '136', 'sell_price': '137', '24H_fluctate': '0', '24H_fluctate_rate': '0.00'}, 'TRUE': {'opening_price': '303', 'closing_price': '308', 'min_price': '287', 'max_price': '337', 'average_price': '307.6229', 'units_traded': '2711257.40878419', 'volume_1day': '2711257.40878419', 'volume_7day': '9259070.763490969993335657', 'buy_price': '308', 'sell_price': '310', '24H_fluctate': '5', '24H_fluctate_rate': '1.65'}, 'ABT': {'opening_price': '99.2', 'closing_price': '93.6', 'min_price': '91.8', 'max_price': '115', 'average_price': '102.6851', 'units_traded': '10136533.82975326', 'volume_1day': '10136533.82975326', 'volume_7day': '51123462.350450810407093951', 'buy_price': '92.1', 'sell_price': '94', '24H_fluctate': '-5.6', '24H_fluctate_rate': '-5.64'}, 'RNT': {'opening_price': '138', 'closing_price': '118', 'min_price': '112', 'max_price': '183', 'average_price': '143.8395', 'units_traded': '96617433.64302337', 'volume_1day': '96617433.64302337', 'volume_7day': '197424462.244122256618448953', 'buy_price': '117', 'sell_price': '119', '24H_fluctate': '-20', '24H_fluctate_rate': '-14.49'}, 'PLY': {'opening_price': '38.6', 'closing_price': '37.5', 'min_price': '36.4', 'max_price': '39.4', 'average_price': '37.9119', 'units_traded': '8372499.94021526', 'volume_1day': '8372499.94021526', 'volume_7day': '108535999.775514534', 'buy_price': '37.3', 'sell_price': '37.5', '24H_fluctate': '-1.1', '24H_fluctate_rate': '-2.84'}, 'WAVES': {'opening_price': '3481', 'closing_price': '3473', 'min_price': '3393', 'max_price': '3550', 'average_price': '3482.5222', 'units_traded': '163737.4892463', 'volume_1day': '163737.4892463', 'volume_7day': '2675390.03251801', 'buy_price': '3438', 'sell_price': '3470', '24H_fluctate': '-8', '24H_fluctate_rate': '-0.22'}, 'LINK': {'opening_price': '397', 'closing_price': '449', 'min_price': '372', 'max_price': '473', 'average_price': '416.6587', 'units_traded': '12123472.92474832', 'volume_1day': '12123472.92474832', 'volume_7day': '20175066.476812845938768123', 'buy_price': '448', 'sell_price': '449', '24H_fluctate': '52', '24H_fluctate_rate': '13.09'}, 'ENJ': {'opening_price': '44', 'closing_price': '43.6', 'min_price': '42.6', 'max_price': '45.7', 'average_price': '43.8527', 'units_traded': '3059955.63735183', 'volume_1day': '3059955.63735183', 'volume_7day': '22450668.765414341307997964', 'buy_price': '43.5', 'sell_price': '44.4', '24H_fluctate': '-0.4', '24H_fluctate_rate': '-0.90'}, 'PST': {'opening_price': '112', 'closing_price': '110', 'min_price': '107', 'max_price': '115', 'average_price': '110.6031', 'units_traded': '807355.92622587', 'volume_1day': '807355.92622587', 'volume_7day': '9502861.70785215768499707', 'buy_price': '109', 'sell_price': '110', '24H_fluctate': '-2', '24H_fluctate_rate': '-1.78'}, 'SALT': {'opening_price': '275', 'closing_price': '266', 'min_price': '262', 'max_price': '279', 'average_price': '269.0206', 'units_traded': '1021993.50828993', 'volume_1day': '1021993.50828993', 'volume_7day': '12833342.90732999', 'buy_price': '266', 'sell_price': '267', '24H_fluctate': '-9', '24H_fluctate_rate': '-3.27'}, 'RDN': {'opening_price': '304', 'closing_price': '289', 'min_price': '279', 'max_price': '345', 'average_price': '307.2125', 'units_traded': '5714307.70003438', 'volume_1day': '5714307.70003438', 'volume_7day': '25840990.365637901913368209', 'buy_price': '287', 'sell_price': '293', '24H_fluctate': '-15', '24H_fluctate_rate': '-4.93'}, 'LOOM': {'opening_price': '55.5', 'closing_price': '55.1', 'min_price': '53.1', 'max_price': '63.8', 'average_price': '57.7078', 'units_traded': '21994555.12975406', 'volume_1day': '21994555.12975406', 'volume_7day': '47566845.178967728127358722', 'buy_price': '55.1', 'sell_price': '55.4', '24H_fluctate': '-0.4', '24H_fluctate_rate': '-0.72'}, 'BHPC': {'opening_price': '907', 'closing_price': '891', 'min_price': '868', 'max_price': '927', 'average_price': '904.4811', 'units_traded': '470478.63429226', 'volume_1day': '470478.63429226', 'volume_7day': '8223170.797340271837217893', 'buy_price': '891', 'sell_price': '893', '24H_fluctate': '-16', '24H_fluctate_rate': '-1.76'}, 'PIVX': {'opening_price': '951', 'closing_price': '959', 'min_price': '914', 'max_price': '967', 'average_price': '935.2758', 'units_traded': '148569.45050544', 'volume_1day': '148569.45050544', 'volume_7day': '10454092.05484645', 'buy_price': '950', 'sell_price': '959', '24H_fluctate': '8', '24H_fluctate_rate': '0.84'}, 'INS': {'opening_price': '332', 'closing_price': '361', 'min_price': '316', 'max_price': '378', 'average_price': '348.0773', 'units_traded': '5650184.97517085', 'volume_1day': '5650184.97517085', 'volume_7day': '13427855.4270683841', 'buy_price': '360', 'sell_price': '361', '24H_fluctate': '29', '24H_fluctate_rate': '8.73'}, 'BCD': {'opening_price': '1027', 'closing_price': '1010', 'min_price': '990', 'max_price': '1036', 'average_price': '1008.3627', 'units_traded': '113228.0528012', 'volume_1day': '113228.0528012', 'volume_7day': '1796932.64922462', 'buy_price': '1003', 'sell_price': '1010', '24H_fluctate': '-17', '24H_fluctate_rate': '-1.65'}, 'BZNT': {'opening_price': '27.9', 'closing_price': '27.8', 'min_price': '27', 'max_price': '29.3', 'average_price': '27.8832', 'units_traded': '36531190.10637486', 'volume_1day': '36531190.10637486', 'volume_7day': '196111190.732159465203239481', 'buy_price': '27.4', 'sell_price': '27.8', '24H_fluctate': '-0.09', '24H_fluctate_rate': '-0.35'}, 'XLM': {'opening_price': '128', 'closing_price': '128', 'min_price': '126', 'max_price': '130', 'average_price': '127.6458', 'units_traded': '4229325.83276356', 'volume_1day': '4229325.83276356', 'volume_7day': '46188252.19201266', 'buy_price': '127', 'sell_price': '128', '24H_fluctate': '0', '24H_fluctate_rate': '0.00'}, 'OCN': {'opening_price': '3.95', 'closing_price': '3.75', 'min_price': '3.67', 'max_price': '3.98', 'average_price': '3.8134', 'units_traded': '57049522.43810095', 'volume_1day': '57049522.43810095', 'volume_7day': '1357414813.968146284948450018', 'buy_price': '3.75', 'sell_price': '3.78', '24H_fluctate': '-0.2', '24H_fluctate_rate': '-5.06'}, 'BSV': {'opening_price': '102500', 'closing_price': '99850', 'min_price': '97400', 'max_price': '102700', 'average_price': '99831.1557', 'units_traded': '22514.89765236', 'volume_1day': '22514.89765236', 'volume_7day': '267932.98044286', 'buy_price': '99900', 'sell_price': '100000', '24H_fluctate': '-2650', '24H_fluctate_rate': '-2.58'}, 'TMTG': {'opening_price': '8.35', 'closing_price': '8.18', 'min_price': '8.02', 'max_price': '8.41', 'average_price': '8.2174', 'units_traded': '216198537.20935876', 'volume_1day': '216198537.20935876', 'volume_7day': '1497724588.742886677728526654', 'buy_price': '8.15', 'sell_price': '8.2', '24H_fluctate': '-0.17', '24H_fluctate_rate': '-2.03'}, 'BAT': {'opening_price': '147', 'closing_price': '154', 'min_price': '144', 'max_price': '162', 'average_price': '152.2055', 'units_traded': '3891591.84116466', 'volume_1day': '3891591.84116466', 'volume_7day': '9626166.296136244366261358', 'buy_price': '152', 'sell_price': '154', '24H_fluctate': '7', '24H_fluctate_rate': '4.76'}, 'WET': {'opening_price': '14.1', 'closing_price': '14', 'min_price': '13.8', 'max_price': '14.4', 'average_price': '14.0606', 'units_traded': '19620983.32006729', 'volume_1day': '19620983.32006729', 'volume_7day': '186872411.421039376998250832', 'buy_price': '14', 'sell_price': '14.1', '24H_fluctate': '-0.1', '24H_fluctate_rate': '-0.70'}, 'XVG': {'opening_price': '8.01', 'closing_price': '7.89', 'min_price': '7.72', 'max_price': '8.04', 'average_price': '7.8577', 'units_traded': '6634350.85121804', 'volume_1day': '6634350.85121804', 'volume_7day': '50774896.78504833', 'buy_price': '7.8', 'sell_price': '7.89', '24H_fluctate': '-0.12', '24H_fluctate_rate': '-1.49'}, 'IOST': {'opening_price': '6.42', 'closing_price': '6.5', 'min_price': '6.16', 'max_price': '6.56', 'average_price': '6.3226', 'units_traded': '418388684.57116952', 'volume_1day': '418388684.57116952', 'volume_7day': '1444627485.708577671816201684', 'buy_price': '6.49', 'sell_price': '6.51', '24H_fluctate': '0.08', '24H_fluctate_rate': '1.24'}, 'POLY': {'opening_price': '160', 'closing_price': '158', 'min_price': '155', 'max_price': '160', 'average_price': '156.5425', 'units_traded': '1047730.31955538', 'volume_1day': '1047730.31955538', 'volume_7day': '9735559.311048534914661989', 'buy_price': '157', 'sell_price': '158', '24H_fluctate': '-2', '24H_fluctate_rate': '-1.25'}, 'HC': {'opening_price': '1455', 'closing_price': '1424', 'min_price': '1380', 'max_price': '1512', 'average_price': '1441.8827', 'units_traded': '84275.28130399', 'volume_1day': '84275.28130399', 'volume_7day': '867927.20937182', 'buy_price': '1424', 'sell_price': '1427', '24H_fluctate': '-31', '24H_fluctate_rate': '-2.13'}, 'MEETONE': [], 'ADD': [], 'HORUS': [], 'CHL': [], 'EOSDAC': [], 'BLACK': [], 'ROM': {'opening_price': '0.13', 'closing_price': '0.13', 'min_price': '0.12', 'max_price': '0.13', 'average_price': '0.1261', 'units_traded': '42444529589.46641538', 'volume_1day': '42444529589.46641538', 'volume_7day': '218653302607.293473967995468914', 'buy_price': '0.12', 'sell_price': '0.13', '24H_fluctate': '0', '24H_fluctate_rate': '0.00'}, 'AMO': {'opening_price': '1.75', 'closing_price': '1.61', 'min_price': '1.56', 'max_price': '1.76', 'average_price': '1.6668', 'units_traded': '643567655.08289667', 'volume_1day': '643567655.08289667', 'volume_7day': '24255293988.633640594927606334', 'buy_price': '1.6', 'sell_price': '1.61', '24H_fluctate': '-0.14', '24H_fluctate_rate': '-8.00'}, 'date': '1546583787570'}\n"
     ]
    }
   ],
   "source": [
    "currency = requests.get(\"https://api.bithumb.com/public/ticker/all\").json()['data']\n",
    "print(currency)"
   ]
  },
  {
   "cell_type": "code",
   "execution_count": null,
   "metadata": {},
   "outputs": [],
   "source": [
    "# 아래에 코드를 작성하세요.\n",
    "print(type(currency))"
   ]
  },
  {
   "cell_type": "markdown",
   "metadata": {},
   "source": [
    "# 모음 제거하기\n",
    "\n",
    "> 다음 문장의 모음을 제거하여 출력하세요.\n",
    "---\n",
    "```\n",
    "예시 입력)\n",
    "\"Life is too short, you need python\"\n",
    "```\n",
    "\n",
    "```\n",
    "예시 출력)\n",
    "Lf s t shrt, y nd pythn\n",
    "```"
   ]
  },
  {
   "cell_type": "code",
   "execution_count": 1,
   "metadata": {},
   "outputs": [
    {
     "name": "stdout",
     "output_type": "stream",
     "text": [
      "life is too short, you need python\n",
      "lf s t shrt, y nd pythn\n"
     ]
    }
   ],
   "source": [
    "a = input()\n",
    "# 아래에 코드를 작성하세요.\n",
    "for i in 'aeiou':\n",
    "    a = a.replace(i,\"\")\n",
    "print(a)"
   ]
  },
  {
   "cell_type": "markdown",
   "metadata": {},
   "source": [
    "# 영어 이름 출력하기 \n",
    "\n",
    "> 영어 이름은 가운데 이름을 가지고 있는 경우가 있습니다.\n",
    ">\n",
    "> 가운데 이름은 축약해서 나타내는 함수를 작성해보세요.\n",
    "\n",
    "---\n",
    "```\n",
    "예시 입력)\n",
    "Alice Betty Catherine Davis\n",
    "```\n",
    "```\n",
    "예시 출력)\n",
    "Alice B. C. Davis\n",
    "```"
   ]
  },
  {
   "cell_type": "code",
   "execution_count": 5,
   "metadata": {},
   "outputs": [
    {
     "name": "stdout",
     "output_type": "stream",
     "text": [
      "tom han\n",
      "tom han\n"
     ]
    }
   ],
   "source": [
    "name = input()\n",
    "# 아래에 코드를 작성하세요.\n",
    "list1 = name.split(' ')\n",
    "for i in range(1,len(list1)-1):\n",
    "    a = list1[i]\n",
    "    t = a[0:1]+'.'\n",
    "    list1[i] = t\n",
    "\n",
    "print(' '.join(list1))\n"
   ]
  },
  {
   "cell_type": "markdown",
   "metadata": {},
   "source": [
    "# 달력 출력하기\n",
    "\n",
    "> 1월 1일 월요일부터 12월 31일까지 달력을 출력하세요.\n",
    "\n",
    "---\n",
    "```\n",
    "예시 출력)\n",
    "         1 월\n",
    "Mo Tu We Th Fr Sa Su \n",
    " 1  2  3  4  5  6  7 \n",
    " 8  9 10 11 12 13 14 \n",
    "15 16 17 18 19 20 21 \n",
    "22 23 24 25 26 27 28 \n",
    "29 30 31 \n",
    "         2 월\n",
    "Mo Tu We Th Fr Sa Su \n",
    " 1  2  3  4  5  6  7 \n",
    " 8  9 10 11 12 13 14 \n",
    "15 16 17 18 19 20 21 \n",
    "22 23 24 25 26 27 28 \n",
    "\n",
    "         3 월\n",
    "Mo Tu We Th Fr Sa Su \n",
    " 1  2  3  4  5  6  7 \n",
    " 8  9 10 11 12 13 14 \n",
    "15 16 17 18 19 20 21 \n",
    "22 23 24 25 26 27 28 \n",
    "29 30 31 \n",
    "         4 월\n",
    "Mo Tu We Th Fr Sa Su \n",
    " 1  2  3  4  5  6  7 \n",
    " 8  9 10 11 12 13 14 \n",
    "15 16 17 18 19 20 21 \n",
    "22 23 24 25 26 27 28 \n",
    "29 30 \n",
    "```"
   ]
  },
  {
   "cell_type": "code",
   "execution_count": 6,
   "metadata": {},
   "outputs": [
    {
     "name": "stdout",
     "output_type": "stream",
     "text": [
      "     1월     \n",
      "Mo Tu We Th Fr Sa Su\n",
      "     2월     \n",
      "Mo Tu We Th Fr Sa Su\n",
      "     3월     \n",
      "Mo Tu We Th Fr Sa Su\n",
      "     4월     \n",
      "Mo Tu We Th Fr Sa Su\n",
      "     5월     \n",
      "Mo Tu We Th Fr Sa Su\n",
      "     6월     \n",
      "Mo Tu We Th Fr Sa Su\n",
      "     7월     \n",
      "Mo Tu We Th Fr Sa Su\n",
      "     8월     \n",
      "Mo Tu We Th Fr Sa Su\n",
      "     9월     \n",
      "Mo Tu We Th Fr Sa Su\n",
      "     10월     \n",
      "Mo Tu We Th Fr Sa Su\n",
      "     11월     \n",
      "Mo Tu We Th Fr Sa Su\n",
      "     12월     \n",
      "Mo Tu We Th Fr Sa Su\n"
     ]
    }
   ],
   "source": [
    "a = [31,25,31,30,31,30,31,31,30,31,30,31]\n",
    "D = ['Mo','Tu','We','Th','Fr','Sa','Su']\n",
    "for i in range(1,len(a)+1):\n",
    "    c = int(len(a)/3)\n",
    "    print(\" \"*c,\"{}월\".format(i),\" \"*c)\n",
    "    print(' '.join(D))"
   ]
  }
 ],
 "metadata": {
  "kernelspec": {
   "display_name": "Python 3",
   "language": "python",
   "name": "python3"
  },
  "language_info": {
   "codemirror_mode": {
    "name": "ipython",
    "version": 3
   },
   "file_extension": ".py",
   "mimetype": "text/x-python",
   "name": "python",
   "nbconvert_exporter": "python",
   "pygments_lexer": "ipython3",
   "version": "3.6.7"
  },
  "toc": {
   "base_numbering": 1,
   "nav_menu": {},
   "number_sections": true,
   "sideBar": true,
   "skip_h1_title": false,
   "title_cell": "Table of Contents",
   "title_sidebar": "Contents",
   "toc_cell": false,
   "toc_position": {},
   "toc_section_display": true,
   "toc_window_display": false
  }
 },
 "nbformat": 4,
 "nbformat_minor": 2
}
