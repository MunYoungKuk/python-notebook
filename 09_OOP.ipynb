{
 "cells": [
  {
   "cell_type": "code",
   "execution_count": null,
   "metadata": {},
   "outputs": [],
   "source": [
    "from IPython.display import IFrame"
   ]
  },
  {
   "cell_type": "markdown",
   "metadata": {},
   "source": [
    "# OOP with Python\n",
    "\n",
    "## 용어 정리\n",
    "\n",
    "```python\n",
    "class Person:                      #=> 클래스 정의(선언) : 클래스 객체 생성\n",
    "    name = '홍길동'                  #=> 멤버 변수(데이터 어트리뷰트)\n",
    "    def greeting(self):            #=> 멤버 메서드(메서드)\n",
    "        print(f'{self.name}')\n",
    "```\n",
    "    \n",
    "    \n",
    "```python\n",
    "iu = Person()       # 인스턴스 객체 생성\n",
    "daniel = Person()   # 인스턴스 객체 생성\n",
    "iu.name             # 데이터 어트리뷰트 호출\n",
    "iu.greeting()       # 메서드 호출\n",
    "```"
   ]
  },
  {
   "cell_type": "code",
   "execution_count": 15,
   "metadata": {},
   "outputs": [
    {
     "name": "stdout",
     "output_type": "stream",
     "text": [
      "이지은\n",
      "이지은입니다~!\n",
      "강다니엘입니다~!\n"
     ]
    }
   ],
   "source": [
    "# Person을 만들어봅시다.\n",
    "class Person:\n",
    "    name = \"홍길동\"\n",
    "    def greeting(self):\n",
    "        print(f\"{self.name}입니다~!\")\n",
    "iu = Person()\n",
    "iu.name = \"이지은\"\n",
    "print(iu.name)\n",
    "iu.greeting()\n",
    "\n",
    "daniel = Person()\n",
    "daniel.name = \"강다니엘\"\n",
    "daniel.greeting()"
   ]
  },
  {
   "cell_type": "markdown",
   "metadata": {},
   "source": [
    "* 클래스와 인스턴스간의 관계를 확인해봅시다."
   ]
  },
  {
   "cell_type": "code",
   "execution_count": 10,
   "metadata": {},
   "outputs": [
    {
     "data": {
      "text/plain": [
       "True"
      ]
     },
     "execution_count": 10,
     "metadata": {},
     "output_type": "execute_result"
    }
   ],
   "source": [
    "isinstance(iu,Person)\n",
    "isinstance(5,int)"
   ]
  },
  {
   "cell_type": "code",
   "execution_count": 16,
   "metadata": {},
   "outputs": [
    {
     "name": "stdout",
     "output_type": "stream",
     "text": [
      "이지은입니다~!\n",
      "이지은입니다~!\n"
     ]
    }
   ],
   "source": [
    "iu.greeting()\n",
    "Person.greeting(iu)"
   ]
  },
  {
   "cell_type": "markdown",
   "metadata": {},
   "source": [
    "##  `self` : 인스턴스 객체 자기자신\n",
    "\n",
    "* C++ 혹은 자바에서의 this 키워드와 동일함. \n",
    "\n",
    "* 특별한 상황을 제외하고는 무조건 메서드에서 `self`를 첫번째 인자로 설정한다.\n",
    "\n",
    "* 메서드는 인스턴스 객체가 함수의 첫번째 인자로 전달되도록 되어있다."
   ]
  },
  {
   "cell_type": "code",
   "execution_count": 18,
   "metadata": {},
   "outputs": [
    {
     "name": "stdout",
     "output_type": "stream",
     "text": [
      "이지은입니다~!\n"
     ]
    }
   ],
   "source": [
    "# iu를 다시 인사시켜봅시다.\n",
    "iu.greeting()"
   ]
  },
  {
   "cell_type": "code",
   "execution_count": null,
   "metadata": {},
   "outputs": [],
   "source": [
    "# 다르게 인사를 시킬 수도 있습니다."
   ]
  },
  {
   "cell_type": "markdown",
   "metadata": {},
   "source": [
    "* 클래스 선언부 내부에서도 반드시 self를 통해 데이터 어트리뷰트에 접근 해야 합니다."
   ]
  },
  {
   "cell_type": "code",
   "execution_count": 28,
   "metadata": {},
   "outputs": [
    {
     "name": "stdout",
     "output_type": "stream",
     "text": [
      "홍길동\n",
      "?입니다\n"
     ]
    }
   ],
   "source": [
    "# 예시를 봅시다.\n",
    "name = \"?\"\n",
    "class Person():\n",
    "    name = \"홍길동\"\n",
    "    def greeting(self):\n",
    "        print(f\"{name}입니다\")\n",
    "        \n",
    "p1 = Person()\n",
    "print(p1.name)\n",
    "p1.greeting()"
   ]
  },
  {
   "cell_type": "code",
   "execution_count": null,
   "metadata": {},
   "outputs": [],
   "source": []
  },
  {
   "cell_type": "markdown",
   "metadata": {},
   "source": [
    "## 클래스-인스턴스간의 이름공간\n",
    "\n",
    "* 클래스를 정의하면, 클래스 객체가 생성되고 해당되는 이름 공간이 생성된다. \n",
    "\n",
    "* 인스턴스를 만들게 되면, 인스턴스 객체가 생성되고 해당되는 이름 공간이 생성된다. \n",
    "\n",
    "* 인스턴스의 어트리뷰트가 변경되면, 변경된 데이터를 인스턴스 객체 이름 공간에 저장한다.\n",
    "\n",
    "* 즉, 인스턴스에서 특정한 어트리뷰트에 접근하게 되면 인스턴스 -> 클래스 순으로 탐색을 한다."
   ]
  },
  {
   "cell_type": "code",
   "execution_count": null,
   "metadata": {},
   "outputs": [],
   "source": [
    "# iu에게 이름을 지정해줍시다.\n",
    "iu.name = iu\n"
   ]
  },
  {
   "cell_type": "code",
   "execution_count": null,
   "metadata": {},
   "outputs": [],
   "source": [
    "# 아래의 Python Tutor를 통해 순차적으로 확인해봅시다.\n",
    "IFrame('https://goo.gl/ZgNaXB', width='100%', height='300px')"
   ]
  },
  {
   "cell_type": "markdown",
   "metadata": {},
   "source": [
    "## 생성자 / 소멸자\n",
    "\n",
    "* 생성자는 인스턴스 객체가 생성될 때 호출되는 함수이며, 소멸자는 객체가 소멸되는 과정에서 호출되는 함수입니다.\n",
    "\n",
    "```python\n",
    "def __init__(self):\n",
    "    print('생성될 때 자동으로 호출되는 메서드입니다.')\n",
    "    \n",
    "def __del__(self):\n",
    "    print('소멸될 때 자동으로 호출되는 메서드입니다.')\n",
    "```\n",
    "\n",
    "```\n",
    "__someting__\n",
    "```\n",
    "\n",
    "위의 형식처럼 양쪽에 언더스코어가 있는 메서드를 스페셜 메서드 혹은 매직 메서드라고 불립니다."
   ]
  },
  {
   "cell_type": "code",
   "execution_count": 25,
   "metadata": {},
   "outputs": [],
   "source": [
    "# 생성자와 소멸자를 만들어봅시다.\n",
    "def __init__(self):\n",
    "    print(\"생설될 떄 자동으로 호출되는 메서드\")\n",
    "def __del__(self):\n",
    "    print(\"소멸될 때 자동으로 호출되는 메서드\")"
   ]
  },
  {
   "cell_type": "code",
   "execution_count": 26,
   "metadata": {},
   "outputs": [],
   "source": [
    "#  생성시켜봅시다.\n",
    "p1 = Person()"
   ]
  },
  {
   "cell_type": "code",
   "execution_count": null,
   "metadata": {},
   "outputs": [],
   "source": [
    "# 소멸시켜봅시다.\n",
    "del p1"
   ]
  },
  {
   "cell_type": "markdown",
   "metadata": {},
   "source": [
    "* 생성자 역시 메소드이기 때문에 추가적인 인자를 받을 수 있습니다."
   ]
  },
  {
   "cell_type": "code",
   "execution_count": 51,
   "metadata": {},
   "outputs": [],
   "source": [
    "# 생성자에서 이름을 추가적으로 받아서 출력해봅시다.\n",
    "class Person:\n",
    "    \n",
    "    name = \"임시이름\"\n",
    "    def __init__(self,name):\n",
    "        print(f\"응애 {name}\")\n",
    "        print(f\"응애 {self.name}\")\n",
    "    def __del__(self):\n",
    "        print(f\"꽥\")"
   ]
  },
  {
   "cell_type": "code",
   "execution_count": 52,
   "metadata": {},
   "outputs": [
    {
     "name": "stdout",
     "output_type": "stream",
     "text": [
      "응애 홍길동\n",
      "응애 임시이름\n",
      "꽥\n"
     ]
    }
   ],
   "source": [
    "# 홍길동이라는 이름을 가진 hong 을 만들어봅시다.\n",
    "hong = Person(\"홍길동\")"
   ]
  },
  {
   "cell_type": "markdown",
   "metadata": {},
   "source": [
    "* 아래와 같이 모두 사용할 수 있습니다!\n",
    "\n",
    "```python\n",
    "def __init__(self, parameter1, parameter2):\n",
    "    print('생성될 때 자동으로 호출되는 메서드입니다.')\n",
    "    print(parameter1)\n",
    "\n",
    "def __init__(self, *args):\n",
    "    print('생성될 때 자동으로 호출되는 메서드입니다.')\n",
    "\n",
    "def __init__(self, **kwagrs):\n",
    "    print('생성될 때 자동으로 호출되는 메서드입니다.')\n",
    "```"
   ]
  },
  {
   "cell_type": "markdown",
   "metadata": {},
   "source": [
    "* 따라서, 생성자는 값을 초기화하는 과정에서 자주 활용됩니다. \n",
    "\n",
    "* 아래의 클래스 변수와 인스턴스 변수를 통해 확인해보겠습니다."
   ]
  },
  {
   "cell_type": "markdown",
   "metadata": {},
   "source": [
    "## 클래스 변수 / 인스턴스 변수\n",
    "\n",
    "```python\n",
    "class Person:\n",
    "    population = 0              # 클래스 변수 : 모든 인스턴스가 공유함.\n",
    "    \n",
    "    def __init__(self, name):   \n",
    "        self.name = name        # 인스턴스 변수 : 인스턴스별로 각각 가지는 변수\n",
    "```        "
   ]
  },
  {
   "cell_type": "code",
   "execution_count": 66,
   "metadata": {},
   "outputs": [],
   "source": [
    "# 위의 생성자와 인사하는 메소드를 만들어봅시다. \n",
    "class Person:\n",
    "    population = 0\n",
    "    def __init__(self,name):\n",
    "        self.name = name\n",
    "        Person.population += 1\n",
    "    def greeting (self):\n",
    "        print(f\"{self.name} 입니다.\")\n",
    "    "
   ]
  },
  {
   "cell_type": "code",
   "execution_count": 67,
   "metadata": {},
   "outputs": [],
   "source": [
    "# 본인의 이름을 가진 인스턴스를 만들어봅시다.\n",
    "mun = Person(\"문영국\")"
   ]
  },
  {
   "cell_type": "code",
   "execution_count": 62,
   "metadata": {},
   "outputs": [
    {
     "name": "stdout",
     "output_type": "stream",
     "text": [
      "문영국\n"
     ]
    }
   ],
   "source": [
    "# 이름을 출력해봅시다.\n",
    "print(mun.name)"
   ]
  },
  {
   "cell_type": "code",
   "execution_count": 68,
   "metadata": {},
   "outputs": [],
   "source": [
    "# 옆자리 친구의 이름을 가진 인스턴스를 만들어봅시다.\n",
    "friend = Person(\"토마스\")"
   ]
  },
  {
   "cell_type": "code",
   "execution_count": 64,
   "metadata": {},
   "outputs": [
    {
     "name": "stdout",
     "output_type": "stream",
     "text": [
      "토마스\n"
     ]
    }
   ],
   "source": [
    "# 이름을 출력해봅시다.\n",
    "print(friend.name)"
   ]
  },
  {
   "cell_type": "code",
   "execution_count": 69,
   "metadata": {},
   "outputs": [
    {
     "data": {
      "text/plain": [
       "2"
      ]
     },
     "execution_count": 69,
     "metadata": {},
     "output_type": "execute_result"
    }
   ],
   "source": [
    "# population을 출력해봅시다.\n",
    "Person.population"
   ]
  },
  {
   "cell_type": "code",
   "execution_count": null,
   "metadata": {},
   "outputs": [],
   "source": [
    "# 물론, 인스턴스도 접근 가능합니다. 왜일까요?!"
   ]
  },
  {
   "cell_type": "markdown",
   "metadata": {},
   "source": [
    "## 정적 메서드 / 클래스 메서드\n",
    "\n",
    "* 메서드 호출을 인스턴스가 아닌 클래스가 할 수 있도록 구성할 수 있습니다. \n",
    "\n",
    "* 이때 활용되는게 정적 메서드 혹은 클래스 메서드입니다.\n",
    "\n",
    "* 정적 메소드는 객체가 전달되지 않은 형태이며, 클래스 메서드는 인자로 클래스를 넘겨준다."
   ]
  },
  {
   "cell_type": "code",
   "execution_count": 71,
   "metadata": {
    "scrolled": true
   },
   "outputs": [
    {
     "ename": "TypeError",
     "evalue": "greeting() missing 1 required positional argument: 'self'",
     "output_type": "error",
     "traceback": [
      "\u001b[1;31m---------------------------------------------------------------------------\u001b[0m",
      "\u001b[1;31mTypeError\u001b[0m                                 Traceback (most recent call last)",
      "\u001b[1;32m<ipython-input-71-6d9af1c11039>\u001b[0m in \u001b[0;36m<module>\u001b[1;34m\u001b[0m\n\u001b[0;32m      1\u001b[0m \u001b[1;31m# Person 클래스가 인사할 수 있는지 확인해보겠습니다.\u001b[0m\u001b[1;33m\u001b[0m\u001b[1;33m\u001b[0m\u001b[1;33m\u001b[0m\u001b[0m\n\u001b[1;32m----> 2\u001b[1;33m \u001b[0mPerson\u001b[0m\u001b[1;33m.\u001b[0m\u001b[0mgreeting\u001b[0m\u001b[1;33m(\u001b[0m\u001b[1;33m)\u001b[0m\u001b[1;33m\u001b[0m\u001b[1;33m\u001b[0m\u001b[0m\n\u001b[0m",
      "\u001b[1;31mTypeError\u001b[0m: greeting() missing 1 required positional argument: 'self'"
     ]
    }
   ],
   "source": [
    "# Person 클래스가 인사할 수 있는지 확인해보겠습니다.\n",
    "Person.greeting()"
   ]
  },
  {
   "cell_type": "code",
   "execution_count": 78,
   "metadata": {},
   "outputs": [],
   "source": [
    "# 이번에는 Dog class를 만들어보겠습니다.\n",
    "# 클래스 변수 num_of_dogs 통해 개가 생성될 때마다 증가시키도록 하겠습니다. \n",
    "# 개들은 각자의 이름과 나이를 가지고 있습니다. \n",
    "# 그리고 bark() 메서드를 통해 짖을 수 있습니다.\n",
    "class Dog:\n",
    "    num_of_dogs = 0\n",
    "    def __init__(self,name,age):\n",
    "        self.name = name\n",
    "        self.age = age\n",
    "        Dog.num_of_dogs +=1\n",
    "    def bark(self):\n",
    "        print(\"멍멍{self.name}\")\n",
    "    @staticmethod\n",
    "    def info():\n",
    "        print(\"멍멍이 입니다.\")"
   ]
  },
  {
   "cell_type": "code",
   "execution_count": 80,
   "metadata": {},
   "outputs": [
    {
     "name": "stdout",
     "output_type": "stream",
     "text": [
      "멍멍이 입니다.\n",
      "멍멍이 입니다.\n"
     ]
    }
   ],
   "source": [
    "# 각각 이름과 나이가 다른 인스턴스를 3개 만들어봅시다.\n",
    "a = Dog(\"말티즈\",1)\n",
    "b = Dog(\"시츄\",3)\n",
    "c = Dog(\"셰퍼드\",7)\n",
    "Dog.info()\n",
    "a.info()"
   ]
  },
  {
   "cell_type": "markdown",
   "metadata": {},
   "source": [
    "* staticmethod는 다음과 같이 정의됩니다.\n",
    "\n",
    "```python\n",
    "\n",
    "@staticmethod\n",
    "def methodname():\n",
    "    codeblock\n",
    "```"
   ]
  },
  {
   "cell_type": "code",
   "execution_count": 86,
   "metadata": {},
   "outputs": [],
   "source": [
    "# 단순한 static method를 만들어보겠습니다.\n",
    "class Dog:\n",
    "    num_of_dogs = 0\n",
    "    def __init__(self,name,age):\n",
    "        self.name = name\n",
    "        self.age = age\n",
    "        Dog.num_of_dogs +=1\n",
    "    def bark(self):\n",
    "        print(\"멍멍{self.name}\")\n",
    "    @classmethod\n",
    "    def count(cls):\n",
    "        print(f\"{cls.num_of_dogs}마리가 있어요\")\n",
    "        "
   ]
  },
  {
   "cell_type": "code",
   "execution_count": 88,
   "metadata": {},
   "outputs": [],
   "source": [
    "# 3마리를 만들어보고,\n",
    "a = Dog(\"말티즈\",1)\n",
    "b = Dog(\"시츄\",3)\n",
    "c = Dog(\"셰퍼드\",7)"
   ]
  },
  {
   "cell_type": "code",
   "execution_count": 89,
   "metadata": {},
   "outputs": [
    {
     "name": "stdout",
     "output_type": "stream",
     "text": [
      "3마리가 있어요\n"
     ]
    }
   ],
   "source": [
    "# 함수를 호출해봅시다.\n",
    "Dog.count()"
   ]
  },
  {
   "cell_type": "markdown",
   "metadata": {},
   "source": [
    "* classmethod는 다음과 같이 정의됩니다.\n",
    "\n",
    "```python\n",
    "\n",
    "@classmethod\n",
    "def methodname(cls):\n",
    "    codeblock\n",
    "```"
   ]
  },
  {
   "cell_type": "code",
   "execution_count": null,
   "metadata": {},
   "outputs": [],
   "source": [
    "# 개의 숫자를 출력하는 classmethod를 만들어보겠습니다."
   ]
  },
  {
   "cell_type": "code",
   "execution_count": null,
   "metadata": {},
   "outputs": [],
   "source": [
    "# 3마리를 만들어보고,"
   ]
  },
  {
   "cell_type": "code",
   "execution_count": null,
   "metadata": {
    "scrolled": true
   },
   "outputs": [],
   "source": [
    "# 함수를 호출해봅시다."
   ]
  },
  {
   "cell_type": "markdown",
   "metadata": {},
   "source": [
    "## 실습문제 - 정적 메소드\n",
    "\n",
    "> 계산기 class인 `Calculator`를 만들어봅시다.\n",
    "\n",
    "* 정적 메소드 : 두 수를 받아서 각각의 연산을 한 결과를 반환(return)\n",
    "\n",
    "    1. `add()` : 덧셈\n",
    "    \n",
    "    2. `sub()` : 뺄셈 \n",
    "    \n",
    "    3. `mul()` : 곱셈\n",
    "    \n",
    "    4. `div()` : 나눗셈\n"
   ]
  },
  {
   "cell_type": "code",
   "execution_count": 117,
   "metadata": {},
   "outputs": [],
   "source": [
    "# 아래에 코드를 작성해주세요.\n",
    "class Calculator:\n",
    "    @staticmethod\n",
    "    def add(a,b):\n",
    "        return a+b\n",
    "    def sub(a,b):\n",
    "        return a-b\n",
    "    def mul(a,b):\n",
    "        return a*b\n",
    "    def div(a,b):\n",
    "        return a/b"
   ]
  },
  {
   "cell_type": "code",
   "execution_count": 118,
   "metadata": {},
   "outputs": [
    {
     "data": {
      "text/plain": [
       "7"
      ]
     },
     "execution_count": 118,
     "metadata": {},
     "output_type": "execute_result"
    }
   ],
   "source": [
    "# 정적메소드를 호출해보세요.\n",
    "Calculator.add(3,4)"
   ]
  },
  {
   "cell_type": "markdown",
   "metadata": {},
   "source": [
    "## 연산자 오버라이딩(중복 정의)\n",
    "\n",
    "* 파이썬에 기본적으로 정의된 연산자를 직접적으로 정의하여 활용할 수 있습니다. \n",
    "\n",
    "* 몇가지만 소개하고 활용해봅시다.\n",
    "\n",
    "```\n",
    "+  __add__   \n",
    "-  __sub__\n",
    "*  __mul__\n",
    "<  __lt__\n",
    "<= __le__\n",
    "== __eq__\n",
    "!= __ne__\n",
    ">= __ge__\n",
    ">  __gt__\n",
    "```"
   ]
  },
  {
   "cell_type": "code",
   "execution_count": 137,
   "metadata": {},
   "outputs": [],
   "source": [
    "# 사람과 사람을 같은지 비교하면, 이는 나이가 같은지 비교한 결과를 반환하도록 만들어봅시다.\n",
    "class Person:\n",
    "    population = 0\n",
    "    def __init__(self,name,age):\n",
    "        self.name = name\n",
    "        self.age =age\n",
    "        Person.population += 1\n",
    "    def greeting (self):\n",
    "        print(f\"{self.name} 입니다.\")\n",
    "        \n",
    "    def __gt__(self,other):\n",
    "        if self.age > other.age:\n",
    "            return \"왼쪽이 나이 많아\"\n",
    "        else:\n",
    "            return \"오른쪽이 나이 많이\"\n",
    "        \n",
    "    def __eq__(self,other):\n",
    "        if self.age == other.age:\n",
    "            return \"동갑\"\n",
    "        else:\n",
    "            return \"동갑 아님\"\n",
    "    "
   ]
  },
  {
   "cell_type": "code",
   "execution_count": 138,
   "metadata": {},
   "outputs": [
    {
     "data": {
      "text/plain": [
       "'동갑 아님'"
      ]
     },
     "execution_count": 138,
     "metadata": {},
     "output_type": "execute_result"
    }
   ],
   "source": [
    "# 연산자를 호출해봅시다.\n",
    "\n",
    "p1 = Person(\"아저시\",50)\n",
    "p2 = Person(\"대학생\",30)\n",
    "\n",
    "p1>p2\n",
    "p1==p2"
   ]
  },
  {
   "cell_type": "code",
   "execution_count": null,
   "metadata": {},
   "outputs": [],
   "source": [
    "# 원하는 연산자를 사람과 사람을 비교해보세요."
   ]
  },
  {
   "cell_type": "code",
   "execution_count": null,
   "metadata": {},
   "outputs": [],
   "source": [
    "# 파이썬 내부를 살펴봅시다."
   ]
  },
  {
   "cell_type": "markdown",
   "metadata": {},
   "source": [
    "# 상속 \n",
    "\n",
    "## 기초\n",
    "\n",
    "* 클래스에서 가장 큰 특징은 '상속' 기능을 가지고 있다는 것이다. \n",
    "\n",
    "* 부모 클래스의 모든 속성이 자식 클래스에게 상속 되므로 코드재사용성이 높아집니다.\n",
    "\n",
    "```python\n",
    "class DerivedClassName(BaseClassName):\n",
    "    code block\n",
    "```"
   ]
  },
  {
   "cell_type": "code",
   "execution_count": 147,
   "metadata": {},
   "outputs": [
    {
     "name": "stdout",
     "output_type": "stream",
     "text": [
      "문영국 입니다 반갑습니다.\n"
     ]
    }
   ],
   "source": [
    "# 인사만 할 수 있는 간단한 사람 클래스를 만들어봅시다.\n",
    "class Person:\n",
    "    def __init__(self,name):\n",
    "        self.name = name\n",
    "        \n",
    "    def greeting(self):\n",
    "        print(f\"{self.name} 입니다 반갑습니다.\")\n",
    "        \n",
    "p1 = Person(\"문영국\")\n",
    "p1.greeting()"
   ]
  },
  {
   "cell_type": "code",
   "execution_count": 150,
   "metadata": {},
   "outputs": [],
   "source": [
    "# 사람 클래스를 상속받아 학생 클래스를 만들어봅시다.\n",
    "class Student(Person):\n",
    "    def __init__(self,name,student_id):\n",
    "        self.student_id = student_id\n",
    "        self.name = name"
   ]
  },
  {
   "cell_type": "code",
   "execution_count": 153,
   "metadata": {},
   "outputs": [
    {
     "name": "stdout",
     "output_type": "stream",
     "text": [
      "ssafy 입니다 반갑습니다.\n"
     ]
    }
   ],
   "source": [
    "# 학생을 만들어봅시다.\n",
    "s1 = Student(\"ssafy\",123123)\n",
    "s2 = Student('asdfa',12586)\n",
    "\n",
    "s1.greeting()"
   ]
  },
  {
   "cell_type": "code",
   "execution_count": null,
   "metadata": {},
   "outputs": [],
   "source": [
    "# 부모 클래스에 정의를 했음에도 메소드를 호출 할 수 있습니다."
   ]
  },
  {
   "cell_type": "markdown",
   "metadata": {},
   "source": [
    "* 이처럼 상속은 공통된 속성이나 메소드를 부모 클래스에 정의하고, 이를 상속받아 다양한 형태의 사람들을 만들 수 있습니다."
   ]
  },
  {
   "cell_type": "code",
   "execution_count": null,
   "metadata": {},
   "outputs": [],
   "source": [
    "# 진짜 상속관계인지 확인해봅시다."
   ]
  },
  {
   "cell_type": "code",
   "execution_count": null,
   "metadata": {},
   "outputs": [],
   "source": []
  },
  {
   "cell_type": "markdown",
   "metadata": {},
   "source": [
    "## super()\n",
    "\n",
    "* 자식 클래스에 메서드를 추가 구현할 수 있습니다.\n",
    "\n",
    "* 부모 클래스의 내용을 사용하고자 할 때, `super()`를 사용할 수 있습니다."
   ]
  },
  {
   "cell_type": "code",
   "execution_count": 159,
   "metadata": {},
   "outputs": [],
   "source": [
    "class Person:\n",
    "    def __init__(self, name, age, number, email):\n",
    "        self.name = name\n",
    "        self.age = age\n",
    "        self.number = number\n",
    "        self.email = email \n",
    "        \n",
    "    def greeting(self):\n",
    "        print(f'안녕, {self.name}')\n",
    "        \n",
    "class Student(Person):\n",
    "    def __init__(self, name, age, number, email, student_id):\n",
    "        self.name = name\n",
    "        self.age = age\n",
    "        self.number = number\n",
    "        self.email = email \n",
    "        self.student_id = student_id\n",
    "        \n",
    "p1 = Person('홍길동', 200, '0101231234', 'hong@gildong')\n",
    "s1 = Student('학생', 20, '12312312', 'student@naver.com', '190000')"
   ]
  },
  {
   "cell_type": "markdown",
   "metadata": {},
   "source": [
    "* 위의 코드를 보면, 상속을 했음에도 불구하고 동일한 코드가 반복됩니다. "
   ]
  },
  {
   "cell_type": "code",
   "execution_count": 162,
   "metadata": {},
   "outputs": [],
   "source": [
    "# 이를 수정해봅시다.\n",
    "class Person:\n",
    "    def __init__(self, name, age, number, email):\n",
    "        self.name = name\n",
    "        self.age = age\n",
    "        self.number = number\n",
    "        self.email = email \n",
    "        \n",
    "    def greeting(self):\n",
    "        print(f'안녕, {self.name}')\n",
    "        \n",
    "class Student(Person):\n",
    "    def __init__(self, name, age, number, email, student_id):\n",
    "        super().__init__(name,age,number,email)\n",
    "        self.student_id = student_id\n",
    "        \n",
    "    def greeting(self):\n",
    "        print(f\"{self.name}입니다\")\n",
    "        \n",
    "p1 = Person('홍길동', 200, '0101231234', 'hong@gildong')\n",
    "s1 = Student('학생', 20, '12312312', 'student@naver.com', '190000')"
   ]
  },
  {
   "cell_type": "markdown",
   "metadata": {},
   "source": [
    "## 메소드 오버라이딩\n",
    "\n",
    "* 메서드를 재정의할 수도 있습니다."
   ]
  },
  {
   "cell_type": "code",
   "execution_count": 163,
   "metadata": {},
   "outputs": [
    {
     "name": "stdout",
     "output_type": "stream",
     "text": [
      "학생입니다\n"
     ]
    }
   ],
   "source": [
    "# 학생은 공손하게 인사를 합니다.\n",
    "s1.greeting()"
   ]
  },
  {
   "cell_type": "markdown",
   "metadata": {},
   "source": [
    "## 상속관계에서의 이름공간\n",
    "\n",
    "* 기존에 인스턴스 -> 클래스순으로 이름 공간을 탐색해나가는 과정에서 상속관계에 있으면 아래와 같이 확장됩니다.\n",
    "\n",
    "* 인스턴스 -> 자식 클래스 -> 부모 클래스 -> 전역"
   ]
  },
  {
   "cell_type": "markdown",
   "metadata": {},
   "source": [
    "## 실습1 \n",
    "\n",
    "> Teacher 클래스를 만들어보고 Student와 Teacher 클래스에 각각 다른 행동의 메소드들을 하나씩 추가해봅시다."
   ]
  },
  {
   "cell_type": "code",
   "execution_count": 166,
   "metadata": {},
   "outputs": [
    {
     "name": "stdout",
     "output_type": "stream",
     "text": [
      "홍길동이고 서울고에 근무하고 있습니다\n"
     ]
    }
   ],
   "source": [
    "# 아래에 코드를 작성해주세요.\n",
    "class Teacher(Person):\n",
    "    def __init__(self,name,age,number,email,teacher_id,school):\n",
    "        super().__init__(name,age,number,email)\n",
    "        self.teacher_id = teacher_id\n",
    "        self.school = school\n",
    "        \n",
    "    def greeting(self):\n",
    "        print(f\"{self.name}이고 {self.school}에 근무하고 있습니다\")\n",
    "\n",
    "t1 = Teacher(\"홍길동\",30,'010-123-123456',\"abcdef@gmail.com\",123456,\"서울고\")\n",
    "t1.greeting()"
   ]
  },
  {
   "cell_type": "markdown",
   "metadata": {},
   "source": [
    "## 실습2\n",
    "\n",
    "> 사실 사람은 포유류입니다. \n",
    ">\n",
    "> Animal Class를 만들고, Person클래스가 상속받도록 구성해봅시다.\n",
    ">\n",
    "> 변수나, 메소드는 자유롭게 만들어봅시다."
   ]
  },
  {
   "cell_type": "code",
   "execution_count": 167,
   "metadata": {},
   "outputs": [
    {
     "name": "stdout",
     "output_type": "stream",
     "text": [
      "lakdmfk이고 이메일주소는 abcdef@gmail.com\n"
     ]
    }
   ],
   "source": [
    "# 아래에 코드를 작성해주세요.\n",
    "class Animal:\n",
    "    def __init__(self,name,age):\n",
    "        self.name = name\n",
    "        self.age = age\n",
    "        \n",
    "class Person(Animal):\n",
    "    def __init__(self,name,age,email,number):\n",
    "        super().__init__(name,age)\n",
    "        self.email = email\n",
    "        self.number = number\n",
    "    def greeting(self):\n",
    "        print(f\"{self.name}이고 이메일주소는 {self.email}\")\n",
    "p1 = Person(\"lakdmfk\",30,\"abcdef@gmail.com\",'010-123-123456')\n",
    "p1.greeting()"
   ]
  }
 ],
 "metadata": {
  "kernelspec": {
   "display_name": "Python 3",
   "language": "python",
   "name": "python3"
  },
  "language_info": {
   "codemirror_mode": {
    "name": "ipython",
    "version": 3
   },
   "file_extension": ".py",
   "mimetype": "text/x-python",
   "name": "python",
   "nbconvert_exporter": "python",
   "pygments_lexer": "ipython3",
   "version": "3.6.7"
  },
  "latex_envs": {
   "LaTeX_envs_menu_present": true,
   "autoclose": false,
   "autocomplete": true,
   "bibliofile": "biblio.bib",
   "cite_by": "apalike",
   "current_citInitial": 1,
   "eqLabelWithNumbers": true,
   "eqNumInitial": 1,
   "hotkeys": {
    "equation": "Ctrl-E",
    "itemize": "Ctrl-I"
   },
   "labels_anchors": false,
   "latex_user_defs": false,
   "report_style_numbering": false,
   "user_envs_cfg": false
  },
  "toc": {
   "base_numbering": 1,
   "nav_menu": {},
   "number_sections": true,
   "sideBar": true,
   "skip_h1_title": false,
   "title_cell": "Table of Contents",
   "title_sidebar": "Contents",
   "toc_cell": false,
   "toc_position": {},
   "toc_section_display": true,
   "toc_window_display": false
  }
 },
 "nbformat": 4,
 "nbformat_minor": 2
}
