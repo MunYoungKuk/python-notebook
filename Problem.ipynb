{
 "cells": [
  {
   "cell_type": "code",
   "execution_count": 76,
   "metadata": {},
   "outputs": [
    {
     "name": "stdout",
     "output_type": "stream",
     "text": [
      "*****\n",
      "*****\n",
      "*****\n",
      "*****\n",
      "\n"
     ]
    }
   ],
   "source": [
    "n =5;m=4\n",
    "s = '*'*n\n",
    "b = s +'\\n'\n",
    "print(b*4)"
   ]
  },
  {
   "cell_type": "code",
   "execution_count": null,
   "metadata": {},
   "outputs": [],
   "source": []
  },
  {
   "cell_type": "code",
   "execution_count": 13,
   "metadata": {},
   "outputs": [
    {
     "name": "stdout",
     "output_type": "stream",
     "text": [
      "83.25\n"
     ]
    }
   ],
   "source": [
    "student= {'python':80, 'algorithm':78, 'django':95, 'flask':80}\n",
    "s = list(student.values())\n",
    "sum = 0\n",
    "for i in range(4):\n",
    "    sum += s[i]\n",
    "mean = sum/len(s)\n",
    "print(mean)\n",
    "    "
   ]
  },
  {
   "cell_type": "code",
   "execution_count": 1,
   "metadata": {},
   "outputs": [
    {
     "name": "stdout",
     "output_type": "stream",
     "text": [
      "A형은:4 B형은:2 O형은:4 AB형은:3\n"
     ]
    }
   ],
   "source": [
    "blood = ['A','B','O','A','B','A','AB','AB','O','A','O','AB','O']\n",
    "a = blood.count(\"A\")\n",
    "b = blood.count(\"B\")\n",
    "c = blood.count(\"O\")\n",
    "d = blood.count(\"AB\")\n",
    "print(\"A형은:{} B형은:{} O형은:{} AB형은:{}\".format(a,b,c,d))"
   ]
  },
  {
   "cell_type": "code",
   "execution_count": 2,
   "metadata": {},
   "outputs": [
    {
     "name": "stdout",
     "output_type": "stream",
     "text": [
      "jaja\n",
      "False\n"
     ]
    }
   ],
   "source": [
    "left = ['qwertasdfgzxcvb']\n",
    "right = ['yuiophjklnm']\n",
    "\n",
    "word = input()\n",
    "if word[0] in right:\n",
    "    for i in range(1,200):\n",
    "        if word[i] in left and word[i+1] in right:\n",
    "            print(\"True\")\n",
    "           \n",
    "elif word[0] in left:\n",
    "     for j in range(1,200):\n",
    "        if word[j] in right and word[j+1] in left:\n",
    "            print(\"True\")\n",
    "          \n",
    "else:\n",
    "    print(\"False\")\n",
    "        "
   ]
  },
  {
   "cell_type": "code",
   "execution_count": 16,
   "metadata": {},
   "outputs": [
    {
     "name": "stdout",
     "output_type": "stream",
     "text": [
      "{'opening_price': '4264000', 'closing_price': '4316000', 'min_price': '4240000', 'max_price': '4379000', 'average_price': '4312853.0692', 'units_traded': '15791.51248485', 'volume_1day': '15791.51248485', 'volume_7day': '42868.31607964', 'buy_price': '4313000', 'sell_price': '4316000', '24H_fluctate': '52000', '24H_fluctate_rate': '1.21', 'date': '1546499676210'}\n",
      "상승장\n"
     ]
    }
   ],
   "source": [
    "import requests\n",
    "import math\n",
    "\n",
    "url = \"https://api.bithumb.com/public/ticker/btc\"\n",
    "data = requests.get(url).json()['data']\n",
    "print(data)\n",
    "\n",
    "a = int(data.get('max_price'))-int(data.get('min_price'))# 변동폭\n",
    "b = int(data.get(\"opening_price\")) #시가\n",
    "if a+b > int(data.get('max_price')):\n",
    "    print(\"상승장\")\n",
    "elif a+b < int(data.get('max_price')):\n",
    "    print(\"하락장\")\n",
    "c = int(data.get('opening_price'))\n",
    "d = int(data.get('closing_price'))\n",
    "e = int(data.get('max_price'))\n",
    "f = int(data.get('min_price')"
   ]
  }
 ],
 "metadata": {
  "kernelspec": {
   "display_name": "Python 3",
   "language": "python",
   "name": "python3"
  },
  "language_info": {
   "codemirror_mode": {
    "name": "ipython",
    "version": 3
   },
   "file_extension": ".py",
   "mimetype": "text/x-python",
   "name": "python",
   "nbconvert_exporter": "python",
   "pygments_lexer": "ipython3",
   "version": "3.6.7"
  }
 },
 "nbformat": 4,
 "nbformat_minor": 2
}
